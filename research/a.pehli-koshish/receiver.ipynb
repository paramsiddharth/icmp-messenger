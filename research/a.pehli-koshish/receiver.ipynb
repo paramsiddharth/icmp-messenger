{
 "metadata": {
  "language_info": {
   "codemirror_mode": {
    "name": "ipython",
    "version": 3
   },
   "file_extension": ".py",
   "mimetype": "text/x-python",
   "name": "python",
   "nbconvert_exporter": "python",
   "pygments_lexer": "ipython3",
   "version": "3.9.2-final"
  },
  "orig_nbformat": 2,
  "kernelspec": {
   "name": "python3",
   "display_name": "Python 3.9.2 64-bit ('env')",
   "metadata": {
    "interpreter": {
     "hash": "6eb6c1fec69a7a170455a140909b883929e0da80035671fd3c66509dda1377a3"
    }
   }
  }
 },
 "nbformat": 4,
 "nbformat_minor": 2,
 "cells": [
  {
   "cell_type": "code",
   "execution_count": 1,
   "metadata": {},
   "outputs": [],
   "source": [
    "import socket"
   ]
  },
  {
   "cell_type": "code",
   "execution_count": 2,
   "metadata": {},
   "outputs": [
    {
     "output_type": "execute_result",
     "data": {
      "text/plain": [
       "('LAPTOP-5R5DO46K', '169.254.56.70')"
      ]
     },
     "metadata": {},
     "execution_count": 2
    }
   ],
   "source": [
    "socket.gethostname(), socket.gethostbyname(socket.gethostname())"
   ]
  },
  {
   "cell_type": "code",
   "execution_count": 3,
   "metadata": {},
   "outputs": [],
   "source": [
    "host_address = socket.gethostbyname(socket.gethostname())\n",
    "# host_address = '172.22.16.1'\n",
    "custom_port = 4343\n",
    "socket_address = (host_address, custom_port)"
   ]
  },
  {
   "cell_type": "code",
   "execution_count": null,
   "metadata": {
    "tags": []
   },
   "outputs": [],
   "source": [
    "try:\n",
    "    with socket.socket(socket.AF_INET, socket.SOCK_STREAM) as sock:\n",
    "        sock.bind(socket_address)\n",
    "        sock.listen(5)\n",
    "\n",
    "        print(f'Listening on port {custom_port}')\n",
    "\n",
    "        conn, (sender_address, sender_port) = sock.accept()\n",
    "\n",
    "        while True:\n",
    "            msg = conn.recv(1)\n",
    "            print(msg.decode(), end=', ')\n",
    "except KeyboardInterrupt:\n",
    "    print('Done!')"
   ]
  }
 ]
}